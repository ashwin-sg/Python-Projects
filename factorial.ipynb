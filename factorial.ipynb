{
 "cells": [
  {
   "cell_type": "code",
   "execution_count": 35,
   "id": "f542430e-ade2-4a88-937e-576f21c653d1",
   "metadata": {},
   "outputs": [],
   "source": [
    "# factorial function in a noraml way\n",
    "\n",
    "def fact(num):\n",
    "    res = 1\n",
    "\n",
    "    if num == 0:\n",
    "        return 0\n",
    "        \n",
    "    for i in range(1, num+1):\n",
    "        res = res * i\n",
    "     \n",
    "    return res"
   ]
  },
  {
   "cell_type": "code",
   "execution_count": 36,
   "id": "ce7f536b-d50a-4349-a04b-31e25488fb09",
   "metadata": {},
   "outputs": [
    {
     "data": {
      "text/plain": [
       "720"
      ]
     },
     "execution_count": 36,
     "metadata": {},
     "output_type": "execute_result"
    }
   ],
   "source": [
    "#check the result\n",
    "\n",
    "fact(6)"
   ]
  },
  {
   "cell_type": "code",
   "execution_count": 46,
   "id": "ce972e7a-7338-4d25-b235-fc60a758e646",
   "metadata": {},
   "outputs": [],
   "source": [
    "# factorial function in a recursive way\n",
    "\n",
    "def fact_recursive(num):\n",
    "    if num < 0:\n",
    "        raise ValueError(\"Factorial is not defined for negative numbers.\")\n",
    "    elif num == 0:\n",
    "        return 1\n",
    "    else:\n",
    "        return num * fact_recursive(num - 1)"
   ]
  },
  {
   "cell_type": "code",
   "execution_count": 47,
   "id": "b4fa773b-bd7b-47a9-874d-0fa27ee0fdf3",
   "metadata": {},
   "outputs": [
    {
     "data": {
      "text/plain": [
       "720"
      ]
     },
     "execution_count": 47,
     "metadata": {},
     "output_type": "execute_result"
    }
   ],
   "source": [
    "fact_recursive(6)"
   ]
  },
  {
   "cell_type": "code",
   "execution_count": 45,
   "id": "c90419ba-8368-49fa-99a4-aa0b4bbe1d77",
   "metadata": {},
   "outputs": [],
   "source": [
    "# logic in a simple way\n",
    "\n",
    "def factorial(n): \n",
    "       \n",
    "    if n == 0: \n",
    "        return 1\n",
    "      \n",
    "    return n * factorial(n-1)"
   ]
  },
  {
   "cell_type": "code",
   "execution_count": 38,
   "id": "b28301f7-edf2-48ae-ba66-d5556ee2dad6",
   "metadata": {},
   "outputs": [
    {
     "data": {
      "text/plain": [
       "120"
      ]
     },
     "execution_count": 38,
     "metadata": {},
     "output_type": "execute_result"
    }
   ],
   "source": [
    "factorial(5)"
   ]
  },
  {
   "cell_type": "code",
   "execution_count": null,
   "id": "02c537d8-d650-4e30-b6bb-531ea3af9a12",
   "metadata": {},
   "outputs": [],
   "source": []
  }
 ],
 "metadata": {
  "kernelspec": {
   "display_name": "Python 3 (ipykernel)",
   "language": "python",
   "name": "python3"
  },
  "language_info": {
   "codemirror_mode": {
    "name": "ipython",
    "version": 3
   },
   "file_extension": ".py",
   "mimetype": "text/x-python",
   "name": "python",
   "nbconvert_exporter": "python",
   "pygments_lexer": "ipython3",
   "version": "3.11.7"
  }
 },
 "nbformat": 4,
 "nbformat_minor": 5
}
