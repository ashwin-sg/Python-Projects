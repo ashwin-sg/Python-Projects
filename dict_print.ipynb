{
 "cells": [
  {
   "cell_type": "code",
   "execution_count": 1,
   "id": "2f88840a-b873-48a2-a124-8f0605947000",
   "metadata": {},
   "outputs": [
    {
     "name": "stdout",
     "output_type": "stream",
     "text": [
      "The Old Man and the Pythons\n",
      "Ernest Pythons\n",
      "1952\n"
     ]
    }
   ],
   "source": [
    "# this creates an object of type dictionary with the name book\n",
    "book = {\"name\": \"The Old Man and the Pythons\", \"author\": \"Ernest Pythons\", \"year\": 1952}\n",
    "\n",
    "# Print out all the values\n",
    "# The method call values() is written after the name of the variable\n",
    "# Remember the dot notation!\n",
    "for value in book.values():\n",
    "    print(value)"
   ]
  },
  {
   "cell_type": "code",
   "execution_count": 3,
   "id": "e6d72053-ac50-4287-8a1b-98bae8488f1d",
   "metadata": {},
   "outputs": [
    {
     "name": "stdout",
     "output_type": "stream",
     "text": [
      "name\n",
      "author\n",
      "year\n"
     ]
    }
   ],
   "source": [
    "# this creates an object of type dictionary with the name book\n",
    "book = {\"name\": \"The Old Man and the Pythons\", \"author\": \"Ernest Pythons\", \"year\": 1952}\n",
    "\n",
    "# Print out all the keys\n",
    "# The method call keys() is written after the name of the variable\n",
    "# Remember the dot notation!\n",
    "for keys in book.keys():\n",
    "    print(keys)"
   ]
  },
  {
   "cell_type": "code",
   "execution_count": 15,
   "id": "039fc132-4adb-488e-9ba0-ac81cec1bc80",
   "metadata": {},
   "outputs": [
    {
     "name": "stdout",
     "output_type": "stream",
     "text": [
      "name \t : The Old Man and the Pythons\n",
      "author \t : Ernest Pythons\n",
      "year \t : 1952\n"
     ]
    }
   ],
   "source": [
    "#print keys and values together\n",
    "\n",
    "for key, value in book.items():\n",
    "    print(key,'\\t', ':',value)"
   ]
  },
  {
   "cell_type": "code",
   "execution_count": null,
   "id": "006cc1c9-7d20-43a8-907d-fb2f5293dd01",
   "metadata": {},
   "outputs": [],
   "source": []
  }
 ],
 "metadata": {
  "kernelspec": {
   "display_name": "Python 3 (ipykernel)",
   "language": "python",
   "name": "python3"
  },
  "language_info": {
   "codemirror_mode": {
    "name": "ipython",
    "version": 3
   },
   "file_extension": ".py",
   "mimetype": "text/x-python",
   "name": "python",
   "nbconvert_exporter": "python",
   "pygments_lexer": "ipython3",
   "version": "3.11.7"
  }
 },
 "nbformat": 4,
 "nbformat_minor": 5
}
