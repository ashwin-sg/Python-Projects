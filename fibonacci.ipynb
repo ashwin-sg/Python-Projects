{
 "cells": [
  {
   "cell_type": "markdown",
   "id": "b6020a5b-80c7-437d-ac10-ac239eb96a87",
   "metadata": {},
   "source": [
    "### Fibonacci Series in Python"
   ]
  },
  {
   "cell_type": "code",
   "execution_count": 84,
   "id": "1dd4ade1-3e02-4cc0-9114-78a528fdd796",
   "metadata": {},
   "outputs": [
    {
     "data": {
      "text/plain": [
       "2"
      ]
     },
     "execution_count": 84,
     "metadata": {},
     "output_type": "execute_result"
    }
   ],
   "source": [
    "# fibonacci series\n",
    "\n",
    "def fiborecur(n):\n",
    "    \n",
    "    if n==0:\n",
    "        return 0\n",
    "\n",
    "    elif n==1:\n",
    "        return 1\n",
    "        \n",
    "    else:\n",
    "        return fiborecur(n-1) + fiborecur(n-2)\n",
    "\n",
    "fiborecur(3)   "
   ]
  },
  {
   "cell_type": "code",
   "execution_count": 88,
   "id": "2f73cd14-0319-4219-af66-39898efb743f",
   "metadata": {},
   "outputs": [
    {
     "data": {
      "text/plain": [
       "2"
      ]
     },
     "execution_count": 88,
     "metadata": {},
     "output_type": "execute_result"
    }
   ],
   "source": [
    "# fibonnaci series CORRECT\n",
    "\n",
    "def fibo(num):\n",
    "    \n",
    "    a = 0\n",
    "    b = 1\n",
    "    \n",
    "    if num == 1:\n",
    "       return a\n",
    "     \n",
    "    elif num == 2:\n",
    "       return b\n",
    "        \n",
    "    else:\n",
    "       \n",
    "        for num in range(2, num):\n",
    "            res = a + b\n",
    "            a = b\n",
    "            b = res\n",
    "        return res\n",
    "\n",
    "fibo(4)"
   ]
  },
  {
   "cell_type": "code",
   "execution_count": 91,
   "id": "eeded511-c69d-4b57-8bf3-ce0625227da6",
   "metadata": {},
   "outputs": [
    {
     "data": {
      "text/plain": [
       "2"
      ]
     },
     "execution_count": 91,
     "metadata": {},
     "output_type": "execute_result"
    }
   ],
   "source": [
    "# fibonnaci series INCORRECT\n",
    "\n",
    "def fibo(num):\n",
    "    \n",
    "    a = 0\n",
    "    b = 1\n",
    "    \n",
    "    if num == 1:\n",
    "       return a\n",
    "     \n",
    "    elif num == 2:\n",
    "       return b\n",
    "        \n",
    "    else:\n",
    "       \n",
    "        for num in range(1, num):\n",
    "            res = a + b\n",
    "            a = b\n",
    "            b = res\n",
    "        return res\n",
    "\n",
    "fibo(3)"
   ]
  },
  {
   "cell_type": "code",
   "execution_count": 64,
   "id": "76272620-6ab2-47c2-b621-3ed8794643b4",
   "metadata": {},
   "outputs": [
    {
     "name": "stdout",
     "output_type": "stream",
     "text": [
      "2\n"
     ]
    }
   ],
   "source": [
    "# Using Recursion\n",
    "\n",
    "def fibonacci_recursive(n):\n",
    "    if n < 2:\n",
    "        return n\n",
    "    return fibonacci_recursive(n - 1) + fibonacci_recursive(n - 2)\n",
    "\n",
    "print(fibonacci_recursive(3))"
   ]
  },
  {
   "cell_type": "code",
   "execution_count": 14,
   "id": "dfb9de72-4089-44ae-b8d6-c2f8f2b203ec",
   "metadata": {},
   "outputs": [
    {
     "name": "stdout",
     "output_type": "stream",
     "text": [
      "34\n"
     ]
    }
   ],
   "source": [
    "# Using Dynamic Programming\n",
    "\n",
    "def fibonacci_dp(n):\n",
    "    fib_array = [0, 1]\n",
    "    for i in range(2, n + 1):\n",
    "        fib_array.append(fib_array[i - 1] + fib_array[i - 2])\n",
    "    return fib_array[n]\n",
    "\n",
    "print(fibonacci_dp(9)) "
   ]
  },
  {
   "cell_type": "code",
   "execution_count": 15,
   "id": "4e43bf57-45ae-4266-8e6a-85884900926e",
   "metadata": {},
   "outputs": [
    {
     "name": "stdout",
     "output_type": "stream",
     "text": [
      "34\n"
     ]
    }
   ],
   "source": [
    "# Space Optimized DP\n",
    "\n",
    "def fibonacci_space_optimized(n):\n",
    "    a, b = 0, 1\n",
    "    for _ in range(1, n):\n",
    "        a, b = b, a + b\n",
    "    return b\n",
    "\n",
    "print(fibonacci_space_optimized(9))  # Output: 34\n"
   ]
  },
  {
   "cell_type": "code",
   "execution_count": 16,
   "id": "f379e861-7ebc-47be-96de-c138efa167d3",
   "metadata": {},
   "outputs": [
    {
     "name": "stdout",
     "output_type": "stream",
     "text": [
      "34\n"
     ]
    }
   ],
   "source": [
    "# Using Memoization\n",
    "\n",
    "from functools import lru_cache\n",
    "\n",
    "@lru_cache(None)\n",
    "def fibonacci_lru_cache(n):\n",
    "    if n < 2:\n",
    "        return n\n",
    "    return fibonacci_lru_cache(n - 1) + fibonacci_lru_cache(n - 2)\n",
    "\n",
    "print(fibonacci_lru_cache(9))  # Output: 34\n"
   ]
  },
  {
   "cell_type": "code",
   "execution_count": 53,
   "id": "a2d66355-8883-4949-a62c-af1aa77b3b96",
   "metadata": {},
   "outputs": [
    {
     "name": "stdout",
     "output_type": "stream",
     "text": [
      "1\n"
     ]
    }
   ],
   "source": [
    "# using Backtracking\n",
    "\n",
    "def fibonacci_backtracking(n, memo={}):\n",
    "    if n <= 0:\n",
    "        return 0\n",
    "    elif n == 1:\n",
    "        return 1\n",
    "    elif n in memo:\n",
    "        return memo[n]\n",
    "    else:\n",
    "        memo[n] = fibonacci_backtracking(n - 1) + fibonacci_backtracking(n - 2)\n",
    "        return memo[n]\n",
    "\n",
    "print(fibonacci_backtracking(1))  # Output: 34\n"
   ]
  },
  {
   "cell_type": "code",
   "execution_count": null,
   "id": "579de60a-3ced-4a65-97ff-8a80a1e984d3",
   "metadata": {},
   "outputs": [],
   "source": []
  }
 ],
 "metadata": {
  "kernelspec": {
   "display_name": "Python 3 (ipykernel)",
   "language": "python",
   "name": "python3"
  },
  "language_info": {
   "codemirror_mode": {
    "name": "ipython",
    "version": 3
   },
   "file_extension": ".py",
   "mimetype": "text/x-python",
   "name": "python",
   "nbconvert_exporter": "python",
   "pygments_lexer": "ipython3",
   "version": "3.11.7"
  }
 },
 "nbformat": 4,
 "nbformat_minor": 5
}
